{
 "cells": [
  {
   "cell_type": "code",
   "execution_count": 23,
   "metadata": {},
   "outputs": [
    {
     "name": "stdout",
     "output_type": "stream",
     "text": [
      "Lütfen maaşı giriniz:1250\n",
      "Raised percent :  0.1\n",
      "Raised Salary :  1375.0\n"
     ]
    }
   ],
   "source": [
    "#QUESTİON\n",
    "salary = int(input(\"Lütfen maaşı giriniz:\"))\n",
    "percent =  0.0 \n",
    "if salary<0:\n",
    "    print(\"İnvalid Value\")\n",
    "else:\n",
    "    if 0<salary<=1000 :\n",
    "        percent = 0.15\n",
    "    elif 1000 < salary <= 2000:\n",
    "        percent = 0.10\n",
    "    elif 2000 < salary <= 3000:\n",
    "        percent = 0.5\n",
    "    elif 3000 < salary:\n",
    "        percent = 0.025\n",
    "print(\"Raised percent : \",percent)\n",
    "raisedSalary = salary + (salary*percent)\n",
    "print(\"Raised Salary : \", raisedSalary)"
   ]
  },
  {
   "cell_type": "code",
   "execution_count": 28,
   "metadata": {},
   "outputs": [
    {
     "name": "stdout",
     "output_type": "stream",
     "text": [
      "0 th item:  1\n",
      "1 th item:  2\n",
      "2 th item:  3\n",
      "3 th item:  4\n",
      "4 th item:  5\n",
      "5 th item:  6\n"
     ]
    }
   ],
   "source": [
    "i = 0\n",
    "t = [1,2,3,4,5,6]\n",
    "len(t)\n",
    "while( i < len(t) ):\n",
    "    print(i , \"th item: \", t[i])\n",
    "    i+=1\n",
    "    \n"
   ]
  },
  {
   "cell_type": "code",
   "execution_count": 29,
   "metadata": {},
   "outputs": [
    {
     "name": "stdout",
     "output_type": "stream",
     "text": [
      "please input a value: 5\n",
      "please input a value: 6\n",
      "please input a value: 5\n",
      "please input a value: 0\n",
      "Loop durduruldu\n"
     ]
    }
   ],
   "source": [
    "while True:\n",
    "    a = int(input(\"please input a value: \"))\n",
    "    if a == 0:\n",
    "        print(\"Loop durduruldu\")\n",
    "        break;\n",
    "        "
   ]
  },
  {
   "cell_type": "code",
   "execution_count": 31,
   "metadata": {},
   "outputs": [
    {
     "name": "stdout",
     "output_type": "stream",
     "text": [
      "0\n",
      "2\n",
      "4\n",
      "6\n",
      "10\n",
      "12\n",
      "14\n",
      "16\n",
      "18\n"
     ]
    }
   ],
   "source": [
    "for i in range(0,20,2):\n",
    "    if i == 8:\n",
    "        continue\n",
    "    print(i)"
   ]
  },
  {
   "cell_type": "code",
   "execution_count": 34,
   "metadata": {},
   "outputs": [
    {
     "name": "stdout",
     "output_type": "stream",
     "text": [
      "range(0, 10)\n"
     ]
    }
   ],
   "source": [
    "list = range(10)\n",
    "print(list)"
   ]
  },
  {
   "cell_type": "code",
   "execution_count": 33,
   "metadata": {},
   "outputs": [
    {
     "name": "stdout",
     "output_type": "stream",
     "text": [
      "range(0, 10)\n"
     ]
    }
   ],
   "source": [
    "print(range(10))"
   ]
  },
  {
   "cell_type": "code",
   "execution_count": 38,
   "metadata": {},
   "outputs": [
    {
     "ename": "SyntaxError",
     "evalue": "invalid syntax (<ipython-input-38-b50a8fe24524>, line 3)",
     "output_type": "error",
     "traceback": [
      "\u001b[1;36m  File \u001b[1;32m\"<ipython-input-38-b50a8fe24524>\"\u001b[1;36m, line \u001b[1;32m3\u001b[0m\n\u001b[1;33m    replace(\"Course\",\"a\".capitalize()):\u001b[0m\n\u001b[1;37m                                       ^\u001b[0m\n\u001b[1;31mSyntaxError\u001b[0m\u001b[1;31m:\u001b[0m invalid syntax\n"
     ]
    }
   ],
   "source": [
    "liste  = list()\n",
    "for i in \"Python Course\":\n",
    "    replace(\"Course\",\"a\".capitalize()):\n",
    "    liste.append(i)"
   ]
  },
  {
   "cell_type": "code",
   "execution_count": null,
   "metadata": {},
   "outputs": [],
   "source": []
  }
 ],
 "metadata": {
  "kernelspec": {
   "display_name": "Python 3",
   "language": "python",
   "name": "python3"
  },
  "language_info": {
   "codemirror_mode": {
    "name": "ipython",
    "version": 3
   },
   "file_extension": ".py",
   "mimetype": "text/x-python",
   "name": "python",
   "nbconvert_exporter": "python",
   "pygments_lexer": "ipython3",
   "version": "3.7.6"
  }
 },
 "nbformat": 4,
 "nbformat_minor": 4
}
