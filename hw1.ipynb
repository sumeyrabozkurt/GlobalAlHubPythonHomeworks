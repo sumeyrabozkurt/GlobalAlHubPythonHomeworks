{
 "cells": [
  {
   "cell_type": "code",
   "execution_count": 4,
   "metadata": {},
   "outputs": [
    {
     "name": "stdout",
     "output_type": "stream",
     "text": [
      "Please enter a value: 12\n",
      "[12]\n",
      "[<class 'int'>]\n",
      "Please enter a value: 12.65\n",
      "[12, 12.65]\n",
      "[<class 'int'>, <class 'float'>]\n",
      "Please enter a value: 4,5,6\n",
      "[12, 12.65, (4, 5, 6)]\n",
      "[<class 'int'>, <class 'float'>, <class 'tuple'>]\n",
      "Please enter a value: [4,5,6]\n",
      "[12, 12.65, (4, 5, 6), [4, 5, 6]]\n",
      "[<class 'int'>, <class 'float'>, <class 'tuple'>, <class 'list'>]\n",
      "Please enter a value: \"iki\"\n",
      "[12, 12.65, (4, 5, 6), [4, 5, 6], 'iki']\n",
      "[<class 'int'>, <class 'float'>, <class 'tuple'>, <class 'list'>, <class 'str'>]\n",
      "[12, 12.65, (4, 5, 6), [4, 5, 6], 'iki']\n",
      "[<class 'int'>, <class 'float'>, <class 'tuple'>, <class 'list'>, <class 'str'>]\n"
     ]
    }
   ],
   "source": [
    "list1 = []\n",
    "typeList = []\n",
    "\n",
    "for i in range(5):\n",
    "    x = eval(input(\"Please enter a value: \"))\n",
    "    list1.append(x)\n",
    "    print(list1)\n",
    "    typeList.append(type(x))\n",
    "    print (typeList)\n",
    "\n",
    "print(list1)\n",
    "print(typeList)\n",
    "    \n",
    "    "
   ]
  },
  {
   "cell_type": "code",
   "execution_count": null,
   "metadata": {},
   "outputs": [],
   "source": []
  }
 ],
 "metadata": {
  "kernelspec": {
   "display_name": "Python 3",
   "language": "python",
   "name": "python3"
  },
  "language_info": {
   "codemirror_mode": {
    "name": "ipython",
    "version": 3
   },
   "file_extension": ".py",
   "mimetype": "text/x-python",
   "name": "python",
   "nbconvert_exporter": "python",
   "pygments_lexer": "ipython3",
   "version": "3.7.6"
  }
 },
 "nbformat": 4,
 "nbformat_minor": 4
}
