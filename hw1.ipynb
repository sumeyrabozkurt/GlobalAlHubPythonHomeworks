{
 "cells": [
  {
   "cell_type": "code",
   "execution_count": 4,
   "metadata": {},
   "outputs": [
    {
     "name": "stdout",
     "output_type": "stream",
     "text": [
      "Please enter a value: 12\n",
      "Please enter a value: 12.65\n",
      "Please enter a value: 4,5,6\n",
      "Please enter a value: [4,5,6]\n",
      "Please enter a value: \"iki\"\n",
      "[12, 12.65, (4, 5, 6), [4, 5, 6], 'iki']\n",
      "[<class 'int'>, <class 'float'>, <class 'tuple'>, <class 'list'>, <class 'str'>]\n"
     ]
    }
   ],
   "source": [
    "list1 = []\n",
    "typeList = []\n",
    "\n",
    "for i in range(5):\n",
    "    x = eval(input(\"Please enter a value: \"))\n",
    "    list1.append(x)\n",
    "    typeList.append(type(x))\n",
    "\n",
    "print(list1)\n",
    "print(typeList)\n",
    "    \n",
    "    "
   ]
  },
  {
   "cell_type": "code",
   "execution_count": null,
   "metadata": {},
   "outputs": [],
   "source": []
  }
 ],
 "metadata": {
  "kernelspec": {
   "display_name": "Python 3",
   "language": "python",
   "name": "python3"
  },
  "language_info": {
   "codemirror_mode": {
    "name": "ipython",
    "version": 3
   },
   "file_extension": ".py",
   "mimetype": "text/x-python",
   "name": "python",
   "nbconvert_exporter": "python",
   "pygments_lexer": "ipython3",
   "version": "3.7.6"
  }
 },
 "nbformat": 4,
 "nbformat_minor": 4
}
