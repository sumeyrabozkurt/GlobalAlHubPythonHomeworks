{
 "cells": [
  {
   "cell_type": "code",
   "execution_count": 6,
   "metadata": {},
   "outputs": [],
   "source": [
    "def getGrade(note):\n",
    "    grade = \"\"\n",
    "    if note>90:\n",
    "        grade = \"AA\"\n",
    "    elif 70 <note <90:\n",
    "        grade = \"BB\"\n",
    "    elif 50< note <70:\n",
    "        grade = \"CC\"\n",
    "    elif 30< note <50:\n",
    "        grade = \"DD\"\n",
    "    elif note < 30:\n",
    "        grade = \"FF\"\n",
    "    \n",
    "    return grade"
   ]
  },
  {
   "cell_type": "code",
   "execution_count": 7,
   "metadata": {},
   "outputs": [],
   "source": [
    "def getNote(dict):\n",
    "    \n",
    "    note = dict[\"midterm\"]*0.3 + dict[\"final\"]*0.5 + dict[\"project\"]*0.2\n",
    "    \n",
    "    return note"
   ]
  },
  {
   "cell_type": "code",
   "execution_count": 12,
   "metadata": {},
   "outputs": [
    {
     "name": "stdout",
     "output_type": "stream",
     "text": [
      "Please enter your name: s\n",
      "Please enter your surname: b\n",
      "\n",
      "Please enter your name: s\n",
      "Please enter your surname: b\n",
      "\n",
      "WELCOME s b\n",
      "\n",
      "Do you want to add a course?(Y/N): Y\n",
      "Enter a course name: JAVA\n",
      "\n",
      "Do you want to add a course?(Y/N): Y\n",
      "Enter a course name: PYTHON\n",
      "\n",
      "Do you want to add a course?(Y/N): Y\n",
      "Enter a course name: KOTLIN\n",
      "\n",
      "Do you want to add a course?(Y/N): N\n",
      "YOUR COURSES:  ['JAVA', 'PYTHON', 'KOTLIN']\n",
      "Please select a course to enter grades of it: JAVA\n",
      "Midterm: 10\n",
      "Final: 12\n",
      "Project: 15\n",
      "You failed in JAVA\n"
     ]
    }
   ],
   "source": [
    "name = input(\"Please enter your name: \")\n",
    "surname = input(\"Please enter your surname: \")\n",
    "\n",
    "check = False\n",
    "count = 0\n",
    "\n",
    "listOfCourses = []\n",
    "\n",
    "while not check:\n",
    "    \n",
    "    loginName = input(\"\\nPlease enter your name: \")\n",
    "    loginSurname = input(\"Please enter your surname: \")\n",
    "    \n",
    "    if loginName == name and loginSurname == surname:\n",
    "        \n",
    "        print(\"\\nWELCOME {} {}\".format(name,surname))\n",
    "        \n",
    "        for i in range(5):\n",
    "            string = input(\"\\nDo you want to add a course?(Y/N): \")\n",
    "            if(string == \"Y\"):\n",
    "                lesson =  input(\"Enter a course name: \")\n",
    "                listOfCourses.append(lesson)\n",
    "            else:\n",
    "                if i<3:\n",
    "                    print(\"You failed in class..\")\n",
    "                    break\n",
    "                else:\n",
    "                    break\n",
    "        \n",
    "        print(\"YOUR COURSES: \", listOfCourses)\n",
    "        choosenLesson = input(\"Please select a course to enter grades of it: \")\n",
    "        midterm = int(input(\"Midterm: \"))\n",
    "        final = int(input(\"Final: \"))\n",
    "        project = int(input(\"Project: \"))\n",
    "        \n",
    "        dict = {\"midterm\" : midterm , \"final\" : final, \"project\": project}\n",
    "        note = getNote(dict)\n",
    "        grade = getGrade(note)\n",
    "        if grade == \"FF\":\n",
    "            print(\"You failed in {}\".format(choosenLesson))\n",
    "        else:\n",
    "            print(\"Your {} 's note is {},grade is {}\".format(choosenLesson,note,grade))\n",
    "        \n",
    "        check = True\n",
    "        \n",
    "    else:\n",
    "        count += 1\n",
    "        if count == 3:\n",
    "            print(\"Please try again later...\")\n",
    "            break\n"
   ]
  },
  {
   "cell_type": "code",
   "execution_count": null,
   "metadata": {},
   "outputs": [],
   "source": []
  },
  {
   "cell_type": "code",
   "execution_count": null,
   "metadata": {},
   "outputs": [],
   "source": [
    "\n",
    "        "
   ]
  }
 ],
 "metadata": {
  "kernelspec": {
   "display_name": "Python 3",
   "language": "python",
   "name": "python3"
  },
  "language_info": {
   "codemirror_mode": {
    "name": "ipython",
    "version": 3
   },
   "file_extension": ".py",
   "mimetype": "text/x-python",
   "name": "python",
   "nbconvert_exporter": "python",
   "pygments_lexer": "ipython3",
   "version": "3.7.6"
  }
 },
 "nbformat": 4,
 "nbformat_minor": 4
}
